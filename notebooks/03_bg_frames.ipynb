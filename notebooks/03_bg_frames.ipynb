{
 "cells": [
  {
   "cell_type": "markdown",
   "metadata": {},
   "source": [
    "# Annotations made by the model"
   ]
  },
  {
   "cell_type": "code",
   "execution_count": null,
   "metadata": {},
   "outputs": [],
   "source": [
    "%load_ext autoreload\n",
    "%autoreload 2\n",
    "\n",
    "import matplotlib.pyplot as plt \n",
    "from project_paths import paths \n",
    "from ipywidgets import interact, IntSlider\n",
    "\n",
    "from lane_detection_medium.inference import DetectionInference\n",
    "from lane_detection_medium.utils.fs import write_image, get_date_string, write_yolo_labels\n",
    "from lane_detection_medium.utils.viz import render_bbox\n",
    "from lane_detection_medium.utils.video_processing import VideoReader, VideoWriter\n",
    "from lane_detection_medium.types.box_types import YoloBbox\n",
    "\n",
    "%matplotlib inline"
   ]
  },
  {
   "cell_type": "markdown",
   "metadata": {},
   "source": [
    "## Trained Model Loading"
   ]
  },
  {
   "cell_type": "code",
   "execution_count": null,
   "metadata": {},
   "outputs": [],
   "source": [
    "EXP_NAME = \"train-2023-07-05\"\n",
    "\n",
    "CHECKPOINT_DPATH = paths.yolo_dpath / \"LaneMarkingsDetection\" / EXP_NAME / \"weights\"\n",
    "MODEL_FPATH = CHECKPOINT_DPATH / \"best.pt\"\n",
    "\n",
    "inference = DetectionInference.from_file(\n",
    "    str(MODEL_FPATH), \n",
    "    device=\"cuda:0\", \n",
    "    img_size=(640, 640)\n",
    ")"
   ]
  },
  {
   "cell_type": "markdown",
   "metadata": {},
   "source": [
    "## Video Processing"
   ]
  },
  {
   "cell_type": "code",
   "execution_count": null,
   "metadata": {},
   "outputs": [],
   "source": [
    "bg_map = [(0, 249), (3839, 4080), (4122, 4240), (4588, 10319)]\n",
    "#         (0, 267), (3839, 4090), (4119, 4243), (4581, 10325)\n",
    "\n",
    "video_fname = \"astrahan1.mp4\"\n",
    "video_fpath = paths.data / \"videos\" / video_fname\n",
    "\n",
    "out_dpath = paths.yolo_dpath / \"data\" / get_date_string() / \"train\"\n",
    "\n",
    "out_img_dpath = out_dpath / \"images\"\n",
    "out_img_dpath.mkdir(parents=True, exist_ok=True)\n",
    "\n",
    "out_lbl_dpath = out_dpath / \"labels\"\n",
    "out_lbl_dpath.mkdir(parents=True, exist_ok=True)\n",
    "\n",
    "with VideoReader(video_fpath, verbose=True) as reader:\n",
    "    for frame_idx, frame_img in enumerate(reader.get_frames()):\n",
    "        if frame_idx % 2 != 0:\n",
    "            continue \n",
    "\n",
    "        frame_fstem = f\"{video_fpath.stem}_frame_{frame_idx:06d}\"\n",
    "        write_image(out_img_dpath / f\"{frame_fstem}.PNG\", frame_img)\n",
    "\n",
    "        is_background = False \n",
    "        for f_range in bg_map:\n",
    "            if f_range[0] <= frame_idx <= f_range[1]:\n",
    "                is_background = True \n",
    "                break \n",
    "\n",
    "        if is_background:\n",
    "            continue\n",
    "\n",
    "        detections = inference.detect([frame_img], conf=0.25)[0]\n",
    "\n",
    "        if not len(detections):\n",
    "            continue\n",
    "\n",
    "        yolo_labels = []\n",
    "        for det in detections:\n",
    "            yolo_bbox = YoloBbox.from_bbox(det.bbox, *frame_img.shape[:2])\n",
    "            yolo_label = [det.label_id] + yolo_bbox.xywh.tolist()\n",
    "            yolo_labels.append(yolo_label)\n",
    "\n",
    "        write_yolo_labels(out_lbl_dpath / f\"{frame_fstem}.txt\", yolo_labels)"
   ]
  },
  {
   "cell_type": "code",
   "execution_count": null,
   "metadata": {},
   "outputs": [],
   "source": [
    "img_dpath = paths.yolo_dpath / \"data\" / \"2023_07_10\" / \"train\" / \"images\"\n",
    "lbl_dpath = paths.yolo_dpath / \"data\" / \"2023_07_10\" / \"train\" / \"labels\"\n",
    "\n",
    "imgs = list(img_dpath.glob(\"*.PNG\"))\n",
    "lbls = list(lbl_dpath.glob(\"*.txt\"))\n",
    "\n",
    "len(imgs), len(lbls)"
   ]
  },
  {
   "cell_type": "code",
   "execution_count": null,
   "metadata": {},
   "outputs": [],
   "source": []
  }
 ],
 "metadata": {
  "kernelspec": {
   "display_name": ".venv",
   "language": "python",
   "name": "python3"
  },
  "language_info": {
   "codemirror_mode": {
    "name": "ipython",
    "version": 3
   },
   "file_extension": ".py",
   "mimetype": "text/x-python",
   "name": "python",
   "nbconvert_exporter": "python",
   "pygments_lexer": "ipython3",
   "version": "3.9.17"
  }
 },
 "nbformat": 4,
 "nbformat_minor": 2
}
