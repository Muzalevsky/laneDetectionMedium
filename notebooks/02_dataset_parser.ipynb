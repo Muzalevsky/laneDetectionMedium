{
 "cells": [
  {
   "cell_type": "code",
   "execution_count": null,
   "metadata": {},
   "outputs": [],
   "source": [
    "%load_ext autoreload\n",
    "%autoreload 2\n",
    "\n",
    "import os\n",
    "\n",
    "CURRENT_DPATH = os.path.abspath(os.path.dirname(\"__file__\"))\n",
    "PROJECT_ROOT = os.path.abspath(os.path.join(CURRENT_DPATH, os.pardir))\n",
    "DATA_DPATH = os.path.join(PROJECT_ROOT, \"data\")\n",
    "\n",
    "\n",
    "from lane_detection_medium.utils.fs import read_image, read_yolo_labels\n",
    "from lane_detection_medium.utils.viz import render_bbox\n",
    "from lane_detection_medium.types.box_types import YoloBbox\n",
    "\n",
    "from ipywidgets import interact, IntSlider\n",
    "import matplotlib.pyplot as plt \n",
    "import glob\n",
    "from sklearn.model_selection import train_test_split\n",
    "import pandas as pd\n",
    "import numpy as np\n",
    "from datetime import datetime\n",
    "import shutil\n"
   ]
  },
  {
   "attachments": {},
   "cell_type": "markdown",
   "metadata": {},
   "source": [
    "## Data Loading"
   ]
  },
  {
   "cell_type": "code",
   "execution_count": null,
   "metadata": {},
   "outputs": [],
   "source": [
    "prep_dpath = os.path.join(PROJECT_ROOT, \"lane_detection_medium\", \"yolov5-7.0\", \"data\", \"datasets\", \"20230619_full\")\n",
    "print(prep_dpath)\n",
    "\n",
    "images = []\n",
    "labels = []\n",
    "for image_fpath in glob.iglob(os.path.join(prep_dpath, \"**/*.PNG\"), recursive=True):\n",
    "    image_basename = os.path.splitext(os.path.basename(image_fpath))[0]\n",
    "    label_fpath = os.path.join(prep_dpath, \"labels\", image_basename + \".txt\")\n",
    "\n",
    "    if os.path.exists(label_fpath):\n",
    "        images.append(image_fpath)\n",
    "        labels.append(label_fpath)\n",
    "\n",
    "RANDOM_SEED = 42\n",
    "\n",
    "print(len(images))\n",
    "\n",
    "var = np.column_stack( [images, labels])\n",
    "df = pd.DataFrame(data = var, columns=[\"image\", \"label\"])\n",
    "\n",
    "train_images, test_and_valid_images = train_test_split(\n",
    "    df, test_size=0.3, random_state=RANDOM_SEED\n",
    ")\n",
    "\n",
    "test_images, valid_images = train_test_split(\n",
    "    test_and_valid_images, test_size=0.5, random_state=RANDOM_SEED\n",
    ")\n",
    "\n",
    "# train_images.to_csv(os.path.join(prep_dpath, \"train.csv\"))\n",
    "# test_images.to_csv(os.path.join(prep_dpath, \"test.csv\"))\n",
    "# valid_images.to_csv(os.path.join(prep_dpath, \"valid.csv\"))\n",
    "\n",
    "ds_dirname = os.path.join(PROJECT_ROOT, \"lane_detection_medium\", \"yolov5-7.0\", \"data\", \"datasets\", datetime.today().strftime(\"%Y_%m_%d\"))\n",
    "os.makedirs(ds_dirname, exist_ok=True)\n",
    "\n",
    "folders = [\"train\", \"test\", \"val\"]\n",
    "for folder in folders:\n",
    "    images_dirname = os.path.join(ds_dirname, folder, \"images\")\n",
    "    os.makedirs(images_dirname, exist_ok=True)\n",
    "\n",
    "    labels_dirname = os.path.join(ds_dirname, folder, \"labels\")\n",
    "    os.makedirs(labels_dirname, exist_ok=True)\n",
    "\n",
    "for index, row in train_images.iterrows():\n",
    "    shutil.copy(row[\"image\"], os.path.join(ds_dirname, \"train\", \"images\"))\n",
    "    shutil.copy(row[\"label\"], os.path.join(ds_dirname, \"train\", \"labels\"))\n",
    "\n",
    "for index, row in test_images.iterrows():\n",
    "    shutil.copy(row[\"image\"], os.path.join(ds_dirname, \"test\", \"images\"))\n",
    "    shutil.copy(row[\"label\"], os.path.join(ds_dirname, \"test\", \"labels\"))\n",
    "\n",
    "for index, row in valid_images.iterrows():\n",
    "    shutil.copy(row[\"image\"], os.path.join(ds_dirname, \"val\", \"images\"))\n",
    "    shutil.copy(row[\"label\"], os.path.join(ds_dirname, \"val\", \"labels\"))\n"
   ]
  },
  {
   "attachments": {},
   "cell_type": "markdown",
   "metadata": {},
   "source": [
    "## Dataset Debugging"
   ]
  },
  {
   "cell_type": "code",
   "execution_count": null,
   "metadata": {},
   "outputs": [],
   "source": [
    "@interact\n",
    "def show(index=IntSlider(value=0, min=0, max=len(images) - 1)):\n",
    "\n",
    "    img_path = os.path.join(prep_dpath, 'images', f'frame_{index :06d}.PNG')\n",
    "    if (os.path.exists(img_path)):\n",
    "        src_img = read_image(os.path.join(prep_dpath, 'images', f'frame_{index :06d}.PNG'))\n",
    "        _fig, ax = plt.subplots(nrows=1, ncols=1, figsize=(20, 6))\n",
    "\n",
    "        labels = read_yolo_labels(os.path.join(prep_dpath, 'labels', f'frame_{index :06d}.txt'))\n",
    "        for label in labels:\n",
    "            render_bbox(src_img, YoloBbox.from_yolo(label[1:], *src_img.shape[:2]))\n",
    "\n",
    "        ax.imshow(src_img)\n",
    "        plt.show() \n"
   ]
  },
  {
   "cell_type": "code",
   "execution_count": null,
   "metadata": {},
   "outputs": [],
   "source": []
  }
 ],
 "metadata": {
  "kernelspec": {
   "display_name": ".venv",
   "language": "python",
   "name": "python3"
  },
  "language_info": {
   "codemirror_mode": {
    "name": "ipython",
    "version": 3
   },
   "file_extension": ".py",
   "mimetype": "text/x-python",
   "name": "python",
   "nbconvert_exporter": "python",
   "pygments_lexer": "ipython3",
   "version": "3.9.17"
  },
  "vscode": {
   "interpreter": {
    "hash": "3c48a7c30aaf81bd70d2040cee0bf9d273792f23845a41bc5849cf93f9b1d1b2"
   }
  }
 },
 "nbformat": 4,
 "nbformat_minor": 2
}
