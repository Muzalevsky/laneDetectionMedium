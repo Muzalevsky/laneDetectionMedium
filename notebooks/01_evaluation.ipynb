{
 "cells": [
  {
   "attachments": {},
   "cell_type": "markdown",
   "metadata": {},
   "source": [
    "# Detection Evaluation"
   ]
  },
  {
   "cell_type": "code",
   "execution_count": null,
   "metadata": {},
   "outputs": [],
   "source": [
    "%load_ext autoreload\n",
    "%autoreload 2\n",
    "\n",
    "from project_paths import paths \n",
    "\n",
    "from lane_detection_medium.inference import DetectionInference\n",
    "from lane_detection_medium.evaluation import DetectionEvaluator\n",
    "\n",
    "%matplotlib inline"
   ]
  },
  {
   "attachments": {},
   "cell_type": "markdown",
   "metadata": {},
   "source": [
    "## Trained Model Loading"
   ]
  },
  {
   "cell_type": "code",
   "execution_count": null,
   "metadata": {},
   "outputs": [],
   "source": [
    "EXP_NAME = \"train-2023-06-214\"\n",
    "\n",
    "CHECKPOINT_DPATH = paths.yolo_dpath / \"LaneMarkingsDetection\" / EXP_NAME / \"weights\"\n",
    "MODEL_FPATH = CHECKPOINT_DPATH / \"best.pt\"\n",
    "\n",
    "inference = DetectionInference.from_file(\n",
    "    str(MODEL_FPATH), \n",
    "    device=\"cuda:0\", \n",
    "    img_size=(640, 640)\n",
    ")"
   ]
  },
  {
   "attachments": {},
   "cell_type": "markdown",
   "metadata": {},
   "source": [
    "## Evaluation"
   ]
  },
  {
   "cell_type": "code",
   "execution_count": null,
   "metadata": {},
   "outputs": [],
   "source": [
    "data_dpath = paths.yolo_dpath / \"data\" / \"2023_06_21\" / \"test\"\n",
    "evaluator = DetectionEvaluator(model=inference, verbose=True)"
   ]
  },
  {
   "cell_type": "code",
   "execution_count": null,
   "metadata": {},
   "outputs": [],
   "source": [
    "evaluator.evaluate(data_dpath)"
   ]
  }
 ],
 "metadata": {
  "language_info": {
   "name": "python"
  }
 },
 "nbformat": 4,
 "nbformat_minor": 2
}
