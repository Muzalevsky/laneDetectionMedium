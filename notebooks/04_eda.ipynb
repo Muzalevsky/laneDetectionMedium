{
 "cells": [
  {
   "cell_type": "markdown",
   "metadata": {},
   "source": [
    "# Datasets Analysis"
   ]
  },
  {
   "cell_type": "code",
   "execution_count": null,
   "metadata": {},
   "outputs": [],
   "source": [
    "%load_ext autoreload\n",
    "%autoreload 2\n",
    "\n",
    "from collections import Counter\n",
    "\n",
    "import pandas as pd \n",
    "from project_paths import paths\n",
    "from tqdm import tqdm \n",
    "import matplotlib.pyplot as plt \n",
    "plt.rcParams['figure.figsize'] = [10, 7]\n",
    "plt.style.use('seaborn-v0_8')\n",
    "import seaborn as sns\n",
    "sns.set(style=\"darkgrid\")\n",
    "from ipywidgets import interact, IntSlider\n",
    "\n",
    "\n",
    "from lane_detection_medium.datasets.file_datasets import DatasetMode\n",
    "from lane_detection_medium.utils.fs import read_yolo_labels, read_image\n",
    "from lane_detection_medium.utils.load import get_label_map\n",
    "from lane_detection_medium.types.detection_types import ImageDetections\n",
    "from lane_detection_medium.utils.viz import render_bbox\n"
   ]
  },
  {
   "cell_type": "code",
   "execution_count": null,
   "metadata": {},
   "outputs": [],
   "source": [
    "label_map = get_label_map()\n",
    "label_map"
   ]
  },
  {
   "cell_type": "markdown",
   "metadata": {},
   "source": [
    "## Data Loading"
   ]
  },
  {
   "cell_type": "code",
   "execution_count": null,
   "metadata": {},
   "outputs": [],
   "source": [
    "data_dpath = paths.yolo_dpath / \"data\" / \"2023_07_10\"\n",
    "\n",
    "columns = [\n",
    "    \"img_fname\", \"lbl_fname\", \"data_mode\", \"height\", \"width\", #*list(label_map.keys())[:2]\n",
    "] \n",
    "metadata = []\n",
    "for data_mode in DatasetMode:\n",
    "    mode_dpath = data_dpath / data_mode.name\n",
    "\n",
    "    img_dpath = mode_dpath / \"images\"\n",
    "    lbl_dpath = mode_dpath / \"labels\"\n",
    "\n",
    "    images = list(img_dpath.glob(\"*.PNG\"))\n",
    "    labels = list(lbl_dpath.glob(\"*.txt\"))\n",
    "\n",
    "    stream = tqdm(images, desc=f\"{data_mode.name} processing\")\n",
    "\n",
    "    for img_fpath in stream: \n",
    "        img_stem = img_fpath.stem\n",
    "\n",
    "        lbl_fname = None \n",
    "        label_vals = [0, 0]\n",
    "        if (lbl_dpath / f\"{img_stem}.txt\").is_file():\n",
    "            lbl_fname = (lbl_dpath / f\"{img_stem}.txt\").name\n",
    "         \n",
    "        img = read_image(str(img_fpath))\n",
    "\n",
    "        metadata.append(\n",
    "            [\n",
    "                img_fpath.name, \n",
    "                lbl_fname, \n",
    "                data_mode.name, \n",
    "                *img.shape[:2]\n",
    "            ]\n",
    "        )\n",
    "\n",
    "\n",
    "    print(f\"--- {data_mode.name.upper()} ---\")\n",
    "    print(f\"\\tThe number of images: {len(images)}\")\n",
    "    print(f\"\\tThe number of labels: {len(labels)}\")\n",
    "    print(f\"\\tThe number of background images: {len(images) - len(labels)}\")\n",
    "\n",
    "    lbl_counter = None \n",
    "    for lbl_fpath in labels:\n",
    "        labels_np = read_yolo_labels(lbl_fpath)[:, 0].astype(int)\n",
    "        if lbl_counter is None: \n",
    "            lbl_counter = Counter(labels_np)\n",
    "            continue\n",
    "        lbl_counter += Counter(labels_np)\n",
    "    print(f\"\\t{lbl_counter}\")\n",
    "\n",
    "metadata = pd.DataFrame(metadata, columns=columns)"
   ]
  },
  {
   "cell_type": "code",
   "execution_count": null,
   "metadata": {},
   "outputs": [],
   "source": [
    "label_info = pd.DataFrame(\n",
    "    [\n",
    "        [\"solid_white\", 18892, \"train\"], \n",
    "        [\"break_white\", 6824, \"train\"], \n",
    "        [\"solid_white\", 5569, \"valid\"], \n",
    "        [\"break_white\", 1610, \"valid\"], \n",
    "        [\"solid_white\", 5480, \"test\"], \n",
    "        [\"break_white\", 1582, \"test\"], \n",
    "    ], \n",
    "    columns=[\"label\", \"count\", \"mode\"]\n",
    ")\n",
    "\n",
    "plt.figure(figsize=(8, 4))\n",
    "\n",
    "_fig = sns.barplot(x=label_info[\"label\"], y=label_info[\"count\"], hue=label_info[\"mode\"])\n",
    "\n",
    "for container in _fig.containers:\n",
    "    plt.bar_label(container)\n",
    "\n",
    "plt.xlabel(\"Класс разметки\")\n",
    "plt.ylabel(\"Количество\")\n",
    "\n",
    "plt.legend(title=\"Датасет\")\n",
    "plt.title(\"Распределение экземпляров разметки\")\n",
    "\n",
    "plt.grid(True)\n",
    "plt.tight_layout()\n",
    "plt.show() "
   ]
  },
  {
   "cell_type": "code",
   "execution_count": null,
   "metadata": {},
   "outputs": [],
   "source": [
    "label_info = pd.DataFrame(\n",
    "    [\n",
    "        [\"solid_white\", 18892, \"train\"], \n",
    "        [\"break_white\", 6824, \"train\"], \n",
    "        [\"solid_white\", 5569, \"valid\"], \n",
    "        [\"break_white\", 1610, \"valid\"], \n",
    "        [\"solid_white\", 5480, \"test\"], \n",
    "        [\"break_white\", 1582, \"test\"], \n",
    "    ], \n",
    "    columns=[\"label\", \"count\", \"mode\"]\n",
    ")\n",
    "\n",
    "plt.figure(figsize=(8, 4))\n",
    "\n",
    "_fig = sns.barplot(x=label_info[\"label\"], y=label_info[\"count\"], hue=label_info[\"mode\"])\n",
    "\n",
    "for container in _fig.containers:\n",
    "    plt.bar_label(container)\n",
    "\n",
    "plt.xlabel(\"Annotation Label\")\n",
    "plt.ylabel(\"Count\")\n",
    "\n",
    "plt.legend(title=\"Dataset\")\n",
    "plt.title(\"The annotation classes distribution\")\n",
    "\n",
    "plt.grid(True)\n",
    "plt.tight_layout()\n",
    "plt.show() "
   ]
  },
  {
   "cell_type": "code",
   "execution_count": null,
   "metadata": {},
   "outputs": [],
   "source": [
    "metadata[\"shape\"] = \"(\" + metadata[\"height\"].astype(str) + \", \" + metadata[\"width\"].astype(str) + \")\""
   ]
  },
  {
   "cell_type": "markdown",
   "metadata": {},
   "source": [
    "## Shape "
   ]
  },
  {
   "cell_type": "code",
   "execution_count": null,
   "metadata": {},
   "outputs": [],
   "source": [
    "shape_cnts = metadata[\"shape\"].value_counts()\n",
    "shape_prcs = metadata[\"shape\"].value_counts(normalize=True)\n",
    "\n",
    "pd.concat((shape_cnts, shape_prcs), axis=1)"
   ]
  },
  {
   "cell_type": "markdown",
   "metadata": {},
   "source": [
    "## Annotation Example"
   ]
  },
  {
   "cell_type": "code",
   "execution_count": null,
   "metadata": {},
   "outputs": [],
   "source": [
    "with_labels_df = metadata.loc[(metadata[\"lbl_fname\"].notnull()) & (metadata[\"data_mode\"] == \"train\")]\n",
    "\n",
    "color_map = { \n",
    "  \"solid_white\": (255, 0, 0), \n",
    "  \"break_white\": (0, 0, 255), \n",
    "}\n",
    "\n",
    "index = 50 \n",
    "\n",
    "# @interact \n",
    "# def show_inference(index=IntSlider(val=0, min=0, max=len(with_labels_df) - 1)):\n",
    "row = with_labels_df.iloc[index]\n",
    "\n",
    "img_fpath = data_dpath / row[\"data_mode\"] / \"images\" / row[\"img_fname\"]\n",
    "test_image = read_image(str(img_fpath)) \n",
    "\n",
    "lbl_fpath = data_dpath / row[\"data_mode\"] / \"labels\" / row[\"lbl_fname\"]\n",
    "lbl_np = read_yolo_labels(lbl_fpath)\n",
    "gt_detections = ImageDetections.from_yolo_labels(lbl_np, *test_image.shape[:2])\n",
    "\n",
    "canva = test_image.copy()\n",
    "\n",
    "plt.figure(figsize=(12, 12), frameon=False)\n",
    "\n",
    "for det in gt_detections:\n",
    "  for key, val in label_map.items():\n",
    "      if val == det.label_id:\n",
    "        label_name = key \n",
    "        break \n",
    "      \n",
    "  render_bbox(\n",
    "     canva, \n",
    "     det.bbox, \n",
    "     label=label_name, \n",
    "     line_thickness=6,\n",
    "     color=color_map[label_name], \n",
    "     font_color=(255, 255, 255),\n",
    "     font_size=1.5\n",
    "  )\n",
    "\n",
    "plt.grid(False)\n",
    "\n",
    "plt.imshow(canva)\n",
    "plt.tight_layout()\n",
    "plt.savefig(\"exp.jpg\")\n",
    "\n",
    "plt.show()"
   ]
  },
  {
   "cell_type": "code",
   "execution_count": null,
   "metadata": {},
   "outputs": [],
   "source": []
  },
  {
   "cell_type": "code",
   "execution_count": null,
   "metadata": {},
   "outputs": [],
   "source": [
    "metadata[\"shape\"].value_counts(normalize=True)"
   ]
  },
  {
   "cell_type": "code",
   "execution_count": null,
   "metadata": {},
   "outputs": [],
   "source": [
    "_fig = sns.countplot(x=metadata[\"shape\"])"
   ]
  },
  {
   "cell_type": "code",
   "execution_count": null,
   "metadata": {},
   "outputs": [],
   "source": []
  },
  {
   "cell_type": "code",
   "execution_count": null,
   "metadata": {},
   "outputs": [],
   "source": [
    "metadata.head()"
   ]
  },
  {
   "cell_type": "code",
   "execution_count": null,
   "metadata": {},
   "outputs": [],
   "source": []
  },
  {
   "cell_type": "code",
   "execution_count": null,
   "metadata": {},
   "outputs": [],
   "source": [
    "10562+2136+2136"
   ]
  },
  {
   "cell_type": "code",
   "execution_count": null,
   "metadata": {},
   "outputs": [],
   "source": []
  }
 ],
 "metadata": {
  "kernelspec": {
   "display_name": ".venv",
   "language": "python",
   "name": "python3"
  },
  "language_info": {
   "codemirror_mode": {
    "name": "ipython",
    "version": 3
   },
   "file_extension": ".py",
   "mimetype": "text/x-python",
   "name": "python",
   "nbconvert_exporter": "python",
   "pygments_lexer": "ipython3",
   "version": "3.9.17"
  }
 },
 "nbformat": 4,
 "nbformat_minor": 2
}
