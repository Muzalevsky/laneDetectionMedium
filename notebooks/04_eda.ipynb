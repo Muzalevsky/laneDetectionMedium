{
 "cells": [
  {
   "cell_type": "markdown",
   "metadata": {},
   "source": [
    "# Datasets Analysis"
   ]
  },
  {
   "cell_type": "code",
   "execution_count": null,
   "metadata": {},
   "outputs": [],
   "source": [
    "%load_ext autoreload\n",
    "%autoreload 2\n",
    "\n",
    "from collections import Counter\n",
    "\n",
    "from project_paths import paths\n",
    "\n",
    "from lane_detection_medium.datasets.file_datasets import DatasetMode\n",
    "from lane_detection_medium.utils.fs import read_yolo_labels\n",
    "from lane_detection_medium.utils.load import get_label_map\n"
   ]
  },
  {
   "cell_type": "code",
   "execution_count": null,
   "metadata": {},
   "outputs": [],
   "source": [
    "label_map = get_label_map()\n",
    "label_map"
   ]
  },
  {
   "cell_type": "markdown",
   "metadata": {},
   "source": [
    "## Data Loading"
   ]
  },
  {
   "cell_type": "code",
   "execution_count": null,
   "metadata": {},
   "outputs": [],
   "source": [
    "data_dpath = paths.yolo_dpath / \"data\" / \"2023_07_10\"\n",
    "\n",
    "for data_mode in DatasetMode:\n",
    "    mode_dpath = data_dpath / data_mode.name\n",
    "\n",
    "    img_dpath = mode_dpath / \"images\"\n",
    "    lbl_dpath = mode_dpath / \"labels\"\n",
    "\n",
    "    images = list(img_dpath.glob(\"*.PNG\"))\n",
    "    labels = list(lbl_dpath.glob(\"*.txt\"))\n",
    "\n",
    "    print(f\"--- {data_mode.name.upper()} ---\")\n",
    "    print(f\"\\tThe number of images: {len(images)}\")\n",
    "    print(f\"\\tThe number of labels: {len(labels)}\")\n",
    "    print(f\"\\tThe number of background images: {len(images) - len(labels)}\")\n",
    "\n",
    "    lbl_counter = None \n",
    "    for lbl_fpath in labels:\n",
    "        labels_np = read_yolo_labels(lbl_fpath)[:, 0].astype(int)\n",
    "        if lbl_counter is None: \n",
    "            lbl_counter = Counter(labels_np)\n",
    "            continue\n",
    "        lbl_counter += Counter(labels_np)\n",
    "    print(f\"\\t{lbl_counter}\")\n",
    "\n"
   ]
  },
  {
   "cell_type": "code",
   "execution_count": null,
   "metadata": {},
   "outputs": [],
   "source": []
  }
 ],
 "metadata": {
  "kernelspec": {
   "display_name": ".venv",
   "language": "python",
   "name": "python3"
  },
  "language_info": {
   "codemirror_mode": {
    "name": "ipython",
    "version": 3
   },
   "file_extension": ".py",
   "mimetype": "text/x-python",
   "name": "python",
   "nbconvert_exporter": "python",
   "pygments_lexer": "ipython3",
   "version": "3.9.17"
  }
 },
 "nbformat": 4,
 "nbformat_minor": 2
}
